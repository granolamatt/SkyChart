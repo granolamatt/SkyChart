{
 "cells": [
  {
   "cell_type": "code",
   "execution_count": null,
   "metadata": {},
   "outputs": [],
   "source": [
    "from skimage import data\n",
    "from skimage import transform\n",
    "from skimage.feature import (match_descriptors, corner_harris,\n",
    "                             corner_peaks, ORB, plot_matches)\n",
    "from pydng.core import RPICAM2DNG\n",
    "from io import BytesIO\n",
    "from matplotlib import pyplot as plt\n",
    "import numpy as np"
   ]
  },
  {
   "cell_type": "code",
   "execution_count": null,
   "metadata": {},
   "outputs": [],
   "source": [
    "image_file = 'testa_1202.jpg'\n",
    "with open(image_file, 'rb') as fh:\n",
    "    buf = BytesIO(fh.read())\n",
    "rpicam = RPICAM2DNG()\n",
    "raw = rpicam.__extractRAW__(buf)\n",
    "raw = np.array(raw, dtype=np.float)\n",
    "print(type(raw))\n",
    "print(rpicam.__exif__.keys())\n",
    "print(rpicam.maker_note.keys())\n",
    "\n",
    "print(raw.shape, raw.size, raw.dtype)\n",
    "\n",
    "carray = raw[::2,::2] + raw[1::2,::2] + raw[::2,1::2] + raw[1::2,1::2]\n",
    "r,c = carray.shape\n",
    "print(\"Max is\", np.max(carray), \"min\", np.min(carray))\n",
    "carray = carray\n",
    "print(carray[r//2-5:r//2+5,c//2-5:c//2+5])\n",
    "\n",
    "fig = plt.figure(figsize = (20,20))\n",
    "ax = fig.add_subplot(111)\n",
    "ax.imshow(carray, cmap='gray', interpolation='none', vmin=100, vmax=1500)\n",
    "\n",
    "# ax1 = fig.add_subplot(221)\n",
    "# ax1.imshow(raw[::2,::2], cmap='gray', interpolation='none', vmin=100, vmax=500)\n",
    "# ax2 = fig.add_subplot(222)\n",
    "# ax2.imshow(raw[1::2,::2], cmap='gray', interpolation='none', vmin=100, vmax=500)\n",
    "# ax3 = fig.add_subplot(223)\n",
    "# ax3.imshow(raw[::2,1::2], cmap='gray', interpolation='none', vmin=100, vmax=500)\n",
    "# ax4 = fig.add_subplot(224)\n",
    "# ax4.imshow(raw[1::2,1::2], cmap='gray', interpolation='none', vmin=100, vmax=500)\n",
    "\n",
    "plt.show()"
   ]
  },
  {
   "cell_type": "code",
   "execution_count": null,
   "metadata": {},
   "outputs": [],
   "source": [
    "\n",
    "descriptor_extractor = ORB(n_keypoints=200)\n",
    "\n",
    "descriptor_extractor.detect_and_extract(carray)\n",
    "keypoints1 = descriptor_extractor.keypoints\n",
    "descriptors1 = descriptor_extractor.descriptors\n",
    "\n",
    "\n",
    "#matches12 = match_descriptors(descriptors1, descriptors2, cross_check=True)\n",
    "#matches13 = match_descriptors(descriptors1, descriptors3, cross_check=True)\n",
    "\n",
    "fig, ax = plt.subplots(nrows=2, ncols=1)\n",
    "\n",
    "plt.gray()\n",
    "\n",
    "plot_matches(ax[0], carray, carray, keypoints1, keypoints1, matches12)\n",
    "ax[0].axis('off')\n",
    "ax[0].set_title(\"Original Image vs. Transformed Image\")\n",
    "\n",
    "plot_matches(ax[1], img1, img3, keypoints1, keypoints3, matches13)\n",
    "ax[1].axis('off')\n",
    "ax[1].set_title(\"Original Image vs. Transformed Image\")\n",
    "\n",
    "\n",
    "plt.show()"
   ]
  }
 ],
 "metadata": {
  "kernelspec": {
   "display_name": "Python 3",
   "language": "python",
   "name": "python3"
  },
  "language_info": {
   "codemirror_mode": {
    "name": "ipython",
    "version": 3
   },
   "file_extension": ".py",
   "mimetype": "text/x-python",
   "name": "python",
   "nbconvert_exporter": "python",
   "pygments_lexer": "ipython3",
   "version": "3.8.6"
  }
 },
 "nbformat": 4,
 "nbformat_minor": 2
}
