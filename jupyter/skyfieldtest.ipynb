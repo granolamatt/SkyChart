{
 "cells": [
  {
   "cell_type": "code",
   "execution_count": null,
   "metadata": {},
   "outputs": [],
   "source": [
    "from skyfield.api import Star, Topos, load\n",
    "from skyfield.data import hipparcos\n",
    "from matplotlib import pyplot as plt\n",
    "import numpy as np\n",
    "%matplotlib inline\n",
    "figsize = (20,20)\n",
    "\n",
    "with load.open(hipparcos.URL) as f:\n",
    "    df = hipparcos.load_dataframe(f)\n",
    "    \n",
    "df = df[df['magnitude'] <= 3.7]\n",
    "print('After filtering, there are {} stars'.format(len(df)))\n",
    "bright_stars = Star.from_dataframe(df)\n",
    "\n",
    "planets = load('de421.bsp')\n",
    "earth = planets['earth']\n",
    "ts = load.timescale()\n",
    "\n"
   ]
  },
  {
   "cell_type": "code",
   "execution_count": null,
   "metadata": {},
   "outputs": [],
   "source": [
    "fig = plt.figure(figsize=figsize)\n",
    "ax = fig.add_subplot(111,projection='polar')\n",
    "cos = earth + Topos('38.8605998 N', '104.6751112 W', elevation_m=2000)\n",
    "\n",
    "for cnt in range(60):\n",
    "    t = ts.utc(2020, 11, 26, 4,42+cnt,58)\n",
    "#     print(t)\n",
    "#     astrometric = boston.at(t).observe(bright_stars)\n",
    "    apparent = cos.at(t).observe(bright_stars).apparent()\n",
    "#     ra, dec, distance = apparent.radec('date')\n",
    "    alt,az,distance = apparent.altaz()\n",
    "#     print(alt.degrees)\n",
    "#     print(az.degrees)\n",
    "    # print('There are {} right ascensions'.format(len(ra.hours)))\n",
    "    # print('and {} declinations'.format(len(dec.degrees)))\n",
    "#     ax.scatter(ra.hours, dec.degrees, 8 - df['magnitude'], 'k')\n",
    "    az_deg = 2*np.pi*np.array(az.degrees + 90) / 360\n",
    "    ax.scatter(az_deg, 90 - alt.degrees, 8 - df['magnitude'], 'k')\n",
    "#     over = np.where(az_deg > 180)[0]\n",
    "#     az_deg[over] -= 360\n",
    "#     ax.scatter(az_deg, alt.degrees, 8 - df['magnitude'], 'k')\n",
    "# ax.set_xlim(7.0, 4.0)\n",
    "# ax.set_ylim(0, 90)\n",
    "ax.set_rmin(0)\n",
    "ax.set_rmax(90)\n",
    "ax.grid(True)\n",
    "ax.set(title='The visible stars in COS')\n",
    "plt.show()"
   ]
  },
  {
   "cell_type": "code",
   "execution_count": null,
   "metadata": {},
   "outputs": [],
   "source": [
    "r = 90 - np.arange(90, 60, -1)\n",
    "theta = 2 * np.pi * r/(30)\n",
    "\n",
    "ax = plt.subplot(111, projection='polar')\n",
    "ax.plot(theta, r)\n",
    "ax.set_rmin(0)\n",
    "ax.set_rmax(90)\n",
    "ax.set_rticks([0.5, 1, 1.5, 2])  # Less radial ticks\n",
    "ax.set_rlabel_position(-22.5)  # Move radial labels away from plotted line\n",
    "ax.grid(True)\n",
    "\n",
    "ax.set_title(\"A line plot on a polar axis\", va='bottom')\n",
    "plt.show()"
   ]
  },
  {
   "cell_type": "code",
   "execution_count": null,
   "metadata": {},
   "outputs": [],
   "source": []
  }
 ],
 "metadata": {
  "kernelspec": {
   "display_name": "Python 3",
   "language": "python",
   "name": "python3"
  },
  "language_info": {
   "codemirror_mode": {
    "name": "ipython",
    "version": 3
   },
   "file_extension": ".py",
   "mimetype": "text/x-python",
   "name": "python",
   "nbconvert_exporter": "python",
   "pygments_lexer": "ipython3",
   "version": "3.8.6"
  }
 },
 "nbformat": 4,
 "nbformat_minor": 4
}
